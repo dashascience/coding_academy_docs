{
 "cells": [
  {
   "cell_type": "code",
   "execution_count": null,
   "metadata": {},
   "outputs": [],
   "source": [
    "# Mając zagnieżdżoną sekwencję list_ rozszerz ją, dodając listę sub_list, żeby w wyniku otrzymać expected_list"
   ]
  },
  {
   "cell_type": "code",
   "execution_count": 3,
   "metadata": {},
   "outputs": [],
   "source": [
    "# Lista na wejściu:\n",
    "list_ = [\"PEP8\", \"Zmienne\", [[\"Typ_int\", \"Typ_float\"], \"Typ_logiczny\"], \"String\",\n",
    "         [[\"Lista\"], \"Slowniki\"]]"
   ]
  },
  {
   "cell_type": "code",
   "execution_count": 6,
   "metadata": {},
   "outputs": [],
   "source": [
    "# Lista która powinna być dodana do wejściowej listy:\n",
    "sub_list = [\"Krotka\", \"Set\"]"
   ]
  },
  {
   "cell_type": "code",
   "execution_count": null,
   "metadata": {},
   "outputs": [],
   "source": [
    "# Oczekiwany wynik:\n",
    "expected_list = [\"PEP8\", \"Zmienne\", [[\"Typ_int\", \"Typ_float\"], \"Typ_logiczny\"], \"String\",\n",
    "         [[\"Lista\", \"Krotka\", \"Set\"], \"Slowniki\"]]"
   ]
  },
  {
   "cell_type": "code",
   "execution_count": null,
   "metadata": {},
   "outputs": [],
   "source": [
    "my_list = # wpisz swoje rozwiązanie"
   ]
  },
  {
   "cell_type": "code",
   "execution_count": null,
   "metadata": {},
   "outputs": [],
   "source": [
    "# Sprawdź czy my_list = expected_list"
   ]
  }
 ],
 "metadata": {
  "kernelspec": {
   "display_name": "python3.8",
   "language": "python",
   "name": "python3.8"
  },
  "language_info": {
   "codemirror_mode": {
    "name": "ipython",
    "version": 3
   },
   "file_extension": ".py",
   "mimetype": "text/x-python",
   "name": "python",
   "nbconvert_exporter": "python",
   "pygments_lexer": "ipython3",
   "version": "3.8.0"
  }
 },
 "nbformat": 4,
 "nbformat_minor": 4
}
