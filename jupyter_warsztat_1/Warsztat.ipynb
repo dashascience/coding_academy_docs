{
 "cells": [
  {
   "cell_type": "markdown",
   "metadata": {},
   "source": [
    "### Zmienne"
   ]
  },
  {
   "cell_type": "markdown",
   "metadata": {},
   "source": [
    "#### Wyświetlanie wartości zmiennej"
   ]
  },
  {
   "cell_type": "code",
   "execution_count": null,
   "metadata": {},
   "outputs": [],
   "source": [
    "# Zakładamy kartotekę dla klienta\n",
    "imie = \n",
    "nazwisko = \n",
    "wiek = \n",
    "pesel = \n",
    "numer_rachunku = "
   ]
  },
  {
   "cell_type": "code",
   "execution_count": null,
   "metadata": {},
   "outputs": [],
   "source": [
    "# Wyświetl na ekranie zdanie: Nowy Klient: <imie> <nazwisko>, z numerem pesel <pesel>."
   ]
  },
  {
   "cell_type": "markdown",
   "metadata": {},
   "source": [
    "### Znak końca linii - '\\n'"
   ]
  },
  {
   "cell_type": "code",
   "execution_count": null,
   "metadata": {},
   "outputs": [],
   "source": [
    "# Wyświetl na ekranie atrybuty klienta, żeby kazdy atrybut znajdował się w osobnej linijce. "
   ]
  },
  {
   "cell_type": "markdown",
   "metadata": {},
   "source": [
    "### Operatory arytmetyczne"
   ]
  },
  {
   "cell_type": "code",
   "execution_count": null,
   "metadata": {},
   "outputs": [],
   "source": [
    "# Tworzymy dwie zmienne, na których będziemy wykonywali operacje arytmetyczne\n",
    "saldo = 1000\n",
    "kwota_przelewu = 500"
   ]
  },
  {
   "cell_type": "code",
   "execution_count": null,
   "metadata": {},
   "outputs": [],
   "source": [
    "# Wyświetl wartości zmiennych\n",
    "print('Saldo klienta:', )\n",
    "print('Kwota przełewu:', )"
   ]
  },
  {
   "cell_type": "code",
   "execution_count": null,
   "metadata": {},
   "outputs": [],
   "source": [
    "# Saldo klienta po wykonaniu przelewu na rachunek klienta\n",
    "print('Saldo klienta po wykonaniu przelewu:', )"
   ]
  },
  {
   "cell_type": "code",
   "execution_count": null,
   "metadata": {},
   "outputs": [],
   "source": [
    "# Saldo klienta po wykonaniu przelewu z rachunku klienta\n",
    "print('Saldo klienta po wykonaniu przelewu:', )"
   ]
  },
  {
   "cell_type": "code",
   "execution_count": null,
   "metadata": {},
   "outputs": [],
   "source": [
    "# Przypuśćmy, że klient musi wykonać przełew na kwotę 100 zł. 3 razy, jaka będzie łączna suma przełewów\n",
    "kwota_przelewu = 100\n",
    "liczba_przelewow = 3\n",
    "print('Łączna suma przełewów:', )"
   ]
  },
  {
   "cell_type": "code",
   "execution_count": null,
   "metadata": {},
   "outputs": [],
   "source": [
    "# Przypuśćmy, że klient musi wykonać przełew na kwotę 100 zł. 3 razy, jaka będzie łączna suma przełewów\n",
    "kwota_przelewu = 100\n",
    "liczba_przelewow = 3\n",
    "print('Łączna suma przełewów:', )"
   ]
  },
  {
   "cell_type": "code",
   "execution_count": null,
   "metadata": {},
   "outputs": [],
   "source": [
    "# Klient chcę równo podzielić 150 zł. pomiędzy 3 rachunkami. Jaka kwota bedzie na każdym z rachunków?\n",
    "suma = 150\n",
    "liczba_rachunkow = 3\n",
    "print('Kwota bedzie na każdym z rachunków:', )"
   ]
  },
  {
   "cell_type": "code",
   "execution_count": null,
   "metadata": {},
   "outputs": [],
   "source": [
    "# Klient chcę równo podzielić 100 zł. pomiędzy 3 rachunkami, \n",
    "# żeby kwota na każdym z rachunków odpowiadała liczbie całkowitej\n",
    "suma = 100\n",
    "liczba_rachunkow = 3\n",
    "print('Kwota bedzie na każdym z rachunków:', )"
   ]
  },
  {
   "cell_type": "code",
   "execution_count": null,
   "metadata": {},
   "outputs": [],
   "source": [
    "# Jaka kwota bedzie nieprzydzielona po wykonaniu poprzedniej operacji\n",
    "print('Nieprzydzielona kwota:', )"
   ]
  },
  {
   "cell_type": "code",
   "execution_count": null,
   "metadata": {},
   "outputs": [],
   "source": [
    "# Operację potęgowania\n",
    "x = 2\n",
    "y = 3\n",
    "print('Wynik potęgowania x ** y =', )"
   ]
  },
  {
   "cell_type": "code",
   "execution_count": null,
   "metadata": {},
   "outputs": [],
   "source": [
    "# Skrócona ważność operatorów: (potęga), (iloczyn, iloraz, reszta z dzielenia, dzielenie całkowite), (suma, różnica)"
   ]
  },
  {
   "cell_type": "code",
   "execution_count": null,
   "metadata": {},
   "outputs": [],
   "source": [
    "# Czy wynik będzie ten sam?"
   ]
  },
  {
   "cell_type": "code",
   "execution_count": null,
   "metadata": {},
   "outputs": [],
   "source": [
    "print(3 + 2 * 4)"
   ]
  },
  {
   "cell_type": "code",
   "execution_count": null,
   "metadata": {},
   "outputs": [],
   "source": [
    "print((3 + 2)* 4)"
   ]
  },
  {
   "cell_type": "code",
   "execution_count": null,
   "metadata": {},
   "outputs": [],
   "source": [
    "# SyntaxError"
   ]
  },
  {
   "cell_type": "code",
   "execution_count": null,
   "metadata": {},
   "outputs": [],
   "source": [
    "# Czy możemy wykonać następne działania?\n",
    "'imię' = 1\n",
    "1 = 'nazwisko'"
   ]
  },
  {
   "cell_type": "markdown",
   "metadata": {},
   "source": [
    "### Numeryczne typy danych"
   ]
  },
  {
   "cell_type": "code",
   "execution_count": null,
   "metadata": {},
   "outputs": [],
   "source": [
    "# Sprawdź typy następnych zmiennych:\n",
    "saldo = 3000\n",
    "kwota_przelewu = 345.75"
   ]
  },
  {
   "cell_type": "code",
   "execution_count": null,
   "metadata": {},
   "outputs": [],
   "source": [
    "print('Typ zmiennej saldo:', )\n",
    "print('Typ zmiennej kwota_przelewu:', )"
   ]
  },
  {
   "cell_type": "code",
   "execution_count": null,
   "metadata": {},
   "outputs": [],
   "source": [
    "# Skonwertuj zmienną kwota_przelewu do typu int:\n"
   ]
  },
  {
   "cell_type": "markdown",
   "metadata": {},
   "source": [
    "### Sekwencje"
   ]
  },
  {
   "cell_type": "markdown",
   "metadata": {},
   "source": [
    "#### tuple - tworzenie"
   ]
  },
  {
   "cell_type": "code",
   "execution_count": null,
   "metadata": {},
   "outputs": [],
   "source": [
    "# Stwórz krotkę, która zawiera współrzędne GPS budynku ING na Sokolskiej 34 w Katowicach: 50.265196, 19.018155\n",
    "sokolska_34_gps = \n",
    "print(sokolska_34_gps)"
   ]
  },
  {
   "cell_type": "markdown",
   "metadata": {},
   "source": [
    "#### list - tworzenie"
   ]
  },
  {
   "cell_type": "code",
   "execution_count": null,
   "metadata": {},
   "outputs": [],
   "source": [
    "# Stwórz listę, która zawiera imię, nazwisko, numer klienta, wiek\n",
    "imie = \n",
    "nazwisko = \n",
    "nr_klienta = \n",
    "wiek = \n",
    "client_features = []"
   ]
  },
  {
   "cell_type": "markdown",
   "metadata": {},
   "source": [
    "#### tuple, list - indeksowanie, członkostwo, długość"
   ]
  },
  {
   "cell_type": "code",
   "execution_count": null,
   "metadata": {},
   "outputs": [],
   "source": [
    "# Znajdź pierwszy, drugi i ostatni element utworzonej wcześniej listy\n",
    "first_name = \n",
    "last_name = \n",
    "age = \n",
    "print(first_name, last_name, age, \"lata\")"
   ]
  },
  {
   "cell_type": "code",
   "execution_count": null,
   "metadata": {},
   "outputs": [],
   "source": [
    "# Sprawdź długość listy client_features\n",
    "len_client_features = "
   ]
  },
  {
   "cell_type": "code",
   "execution_count": null,
   "metadata": {},
   "outputs": [],
   "source": [
    "# Sprawdź czy wartość 25 jest w client_features"
   ]
  },
  {
   "cell_type": "code",
   "execution_count": null,
   "metadata": {},
   "outputs": [],
   "source": [
    "# Sprawdź pozycję pierwszego wystąpienia wartości 25"
   ]
  },
  {
   "cell_type": "code",
   "execution_count": null,
   "metadata": {},
   "outputs": [],
   "source": [
    "# Sprawdź liczbę wystąpień wartości 25 w sekwencji"
   ]
  },
  {
   "cell_type": "markdown",
   "metadata": {},
   "source": [
    "#### tuple, list - konkatenacja, powielenie"
   ]
  },
  {
   "cell_type": "code",
   "execution_count": null,
   "metadata": {},
   "outputs": [],
   "source": [
    "# Powiel listę klientów z 03.08 i z 04.08\n",
    "clients_03_08 = ['Alicja', 'Monika', 'Natalia']\n",
    "clients_04_08 = ['Jerzy', 'Mateusz', 'Robert']"
   ]
  },
  {
   "cell_type": "code",
   "execution_count": null,
   "metadata": {},
   "outputs": [],
   "source": [
    "# Stwórz listę z powtórzonej sekwencji elementów wykorzystując operator mnożenia\n",
    "lista = [100, 200]\n",
    "lista_new = "
   ]
  },
  {
   "cell_type": "markdown",
   "metadata": {},
   "source": [
    "#### list - modyfikacja"
   ]
  },
  {
   "cell_type": "code",
   "execution_count": null,
   "metadata": {},
   "outputs": [],
   "source": [
    "# Stwórz pustą listę, która będzie zawierała nazwy kont nowego klienta\n",
    "konta = \n",
    "print(konta)"
   ]
  },
  {
   "cell_type": "code",
   "execution_count": null,
   "metadata": {},
   "outputs": [],
   "source": [
    "# Dodaj nazwę konta Direct i nazwę konta Komfort do listy\n",
    "\n",
    "\n",
    "print(konta)"
   ]
  },
  {
   "cell_type": "code",
   "execution_count": null,
   "metadata": {},
   "outputs": [],
   "source": [
    "# Dodaj nazwę konta Mobi do listy, żeby nazwa Mobi znajdowała się na pierwszej pozycji\n",
    "\n",
    "print(konta)"
   ]
  },
  {
   "cell_type": "code",
   "execution_count": null,
   "metadata": {},
   "outputs": [],
   "source": [
    "# Zamień nazwę konta Mobi na konto walutowe\n",
    "\n",
    "print(konta)"
   ]
  },
  {
   "cell_type": "code",
   "execution_count": null,
   "metadata": {},
   "outputs": [],
   "source": [
    "# Usuń konto Direct z listy\n",
    "\n",
    "print(konta)"
   ]
  },
  {
   "cell_type": "code",
   "execution_count": null,
   "metadata": {},
   "outputs": [],
   "source": [
    "# Dodaj do listy 2 nowe konta: Walutowe_eur, Walutowe_usd\n",
    "\n",
    "print(konta)"
   ]
  },
  {
   "cell_type": "code",
   "execution_count": null,
   "metadata": {},
   "outputs": [],
   "source": [
    "# Usuń wszytskie elementy listy\n",
    "\n",
    "print(konta)"
   ]
  },
  {
   "cell_type": "markdown",
   "metadata": {},
   "source": [
    "#### zmienne jako referencje"
   ]
  },
  {
   "cell_type": "code",
   "execution_count": null,
   "metadata": {},
   "outputs": [],
   "source": [
    "# Stwórz listę z nazwami kont dla klienta 1, klienta 2 ma takie same konta.\n",
    "# Przypisz zmmienną klienta 1  do  zmiennej klienta 2.\n",
    "client_1  = \n",
    "client_2 ="
   ]
  },
  {
   "cell_type": "code",
   "execution_count": null,
   "metadata": {},
   "outputs": [],
   "source": [
    "# Dodaj nazwę konta Direct do listy klienta 1\n"
   ]
  },
  {
   "cell_type": "code",
   "execution_count": null,
   "metadata": {},
   "outputs": [],
   "source": [
    "# Czy zmiany widoczne są w obydwu zmiennych."
   ]
  },
  {
   "cell_type": "markdown",
   "metadata": {},
   "source": [
    "#### list - klonowanie"
   ]
  },
  {
   "cell_type": "code",
   "execution_count": null,
   "metadata": {},
   "outputs": [],
   "source": [
    "# Stworzymy listę z nazwami kont dla klienta 1, klienta 2 ma takie same konta.\n",
    "# Sklonuj zmmienną klienta 1  do  zmiennej klienta 2.\n",
    "client_1  = \n",
    "client_2 ="
   ]
  },
  {
   "cell_type": "code",
   "execution_count": null,
   "metadata": {},
   "outputs": [],
   "source": [
    "# Dodajemy nazwe konta Direct do listy klienta 1\n"
   ]
  },
  {
   "cell_type": "code",
   "execution_count": null,
   "metadata": {},
   "outputs": [],
   "source": [
    "# Czy zmiany widoczne są w obydwu zmiennych."
   ]
  },
  {
   "cell_type": "markdown",
   "metadata": {},
   "source": [
    "#### tuple, list - fragmenty (slicing)"
   ]
  },
  {
   "cell_type": "code",
   "execution_count": null,
   "metadata": {},
   "outputs": [],
   "source": [
    "# Stwórz listę imion klientów\n",
    "lista_klientow = []"
   ]
  },
  {
   "cell_type": "code",
   "execution_count": null,
   "metadata": {},
   "outputs": [],
   "source": [
    "# Wyświetl elementy listy od 2 (wliczjąc 2 element) do 5 (nie wliczając 5 element)"
   ]
  },
  {
   "cell_type": "code",
   "execution_count": null,
   "metadata": {},
   "outputs": [],
   "source": [
    "# Wyświetl elementy listy od 2 (wliczjąc 2 element) do 5 (nie wliczając 5 element), używając ujemnych wartości"
   ]
  },
  {
   "cell_type": "code",
   "execution_count": null,
   "metadata": {},
   "outputs": [],
   "source": [
    "# Wyswietl co 2 element listy, zaczynając od 1 elementu"
   ]
  },
  {
   "cell_type": "code",
   "execution_count": null,
   "metadata": {},
   "outputs": [],
   "source": [
    "# Odwróć kolejność elementów listy"
   ]
  },
  {
   "cell_type": "markdown",
   "metadata": {},
   "source": [
    "#### tuple, list - konwersje, zakresy"
   ]
  },
  {
   "cell_type": "code",
   "execution_count": null,
   "metadata": {},
   "outputs": [],
   "source": [
    "# Stwórz listę na bazie krotki z numerami klientów\n",
    "\n"
   ]
  },
  {
   "cell_type": "code",
   "execution_count": null,
   "metadata": {},
   "outputs": [],
   "source": [
    "# Stwórz krotkę  na bazie listy z numerami klientów"
   ]
  },
  {
   "cell_type": "code",
   "execution_count": null,
   "metadata": {},
   "outputs": [],
   "source": [
    "# Stwórz listę na bazie napisu \"ING\""
   ]
  },
  {
   "cell_type": "code",
   "execution_count": null,
   "metadata": {},
   "outputs": [],
   "source": [
    "# Stwórz krotkę zawierająca pięć pierwszych liczb naturalnych (licząc od zera).\n",
    "\n"
   ]
  },
  {
   "cell_type": "code",
   "execution_count": null,
   "metadata": {},
   "outputs": [],
   "source": [
    "# Stwórz listę pierwszych pięciu liczb naturalnych licząc od jeden."
   ]
  },
  {
   "cell_type": "code",
   "execution_count": null,
   "metadata": {},
   "outputs": [],
   "source": [
    "# Stwórz krotkę zawierająca liczby parzyste zaczynające się od 2"
   ]
  },
  {
   "cell_type": "markdown",
   "metadata": {},
   "source": [
    "#### tuple, list - porządek, sortowanie"
   ]
  },
  {
   "cell_type": "code",
   "execution_count": null,
   "metadata": {},
   "outputs": [],
   "source": [
    "# Sprawdź czy kwoty przełewów, które zawiera lista 1 równe kwotom przełewów w liście 2\n",
    "lista_1 = \n",
    "lista_2 = "
   ]
  },
  {
   "cell_type": "code",
   "execution_count": null,
   "metadata": {},
   "outputs": [],
   "source": [
    "# Sprawdź czy lista 1 większa od listy 2\n",
    "lista_1 = \n",
    "lista_2 = "
   ]
  },
  {
   "cell_type": "code",
   "execution_count": null,
   "metadata": {},
   "outputs": [],
   "source": [
    "# Posortuj krotkę listę imion klientów\n",
    "lista_imion =  (\"Ryszard\", \"Robert\", \"Andrzej\", \"Krzysztof\", \"Paweł\")"
   ]
  },
  {
   "cell_type": "markdown",
   "metadata": {},
   "source": [
    "#### tuple, list - rozpakowywanie"
   ]
  },
  {
   "cell_type": "code",
   "execution_count": null,
   "metadata": {},
   "outputs": [],
   "source": [
    "# Przypisz do zmiennych client1, client2, inni imiona z listy lista_imion"
   ]
  },
  {
   "cell_type": "markdown",
   "metadata": {},
   "source": [
    "#### set - tworzenie"
   ]
  },
  {
   "cell_type": "code",
   "execution_count": null,
   "metadata": {},
   "outputs": [],
   "source": [
    "# Utwórz zbiór, który zawiera tylko unikalne numery rachunków klienta\n",
    "nr_rachunku = {'1233', '2345', '4567', '2345'}"
   ]
  },
  {
   "cell_type": "markdown",
   "metadata": {},
   "source": [
    "#### set - algebra zbiorów"
   ]
  },
  {
   "cell_type": "code",
   "execution_count": null,
   "metadata": {},
   "outputs": [],
   "source": [
    "# Sprawdź czy wszystkie elementy zbioru numerów rachunku 1 klienta\n",
    "# zawierają się w  zbiorze numerów rachunku 2 klienta\n",
    "client_1 = {'1233', '2345', '4567', '2345'}\n",
    "client_2 = {'1233', '4567', '2345'}"
   ]
  },
  {
   "cell_type": "code",
   "execution_count": null,
   "metadata": {},
   "outputs": [],
   "source": [
    "# Sprawdź czy wszystkie elementy zbioru numerów rachunku 2 klienta\n",
    "# zawierają się w  zbiorze numerów rachunku 1 klienta\n",
    "client_1 = {'1233', '2345', '4567', '2345'}\n",
    "client_2 = {'1233', '4567', '2345'}"
   ]
  },
  {
   "cell_type": "code",
   "execution_count": null,
   "metadata": {},
   "outputs": [],
   "source": [
    "# Sprawdź czy zbiory są rozłączne"
   ]
  },
  {
   "cell_type": "markdown",
   "metadata": {},
   "source": [
    "#### set - modyfikacja"
   ]
  },
  {
   "cell_type": "code",
   "execution_count": null,
   "metadata": {},
   "outputs": [],
   "source": [
    "# Zmodyfikuj zbiór numerów rachunku 1 klienta, dodając do niego nr rachunku '6789'"
   ]
  },
  {
   "cell_type": "code",
   "execution_count": null,
   "metadata": {},
   "outputs": [],
   "source": [
    "# Usuń ze zbioru numerów rachunku 1 klienta, nr rachunku: 2345"
   ]
  },
  {
   "cell_type": "code",
   "execution_count": null,
   "metadata": {},
   "outputs": [],
   "source": [
    "# Usuń wszystkie elementy ze zbioru numerów rachunku 1 klienta"
   ]
  },
  {
   "cell_type": "markdown",
   "metadata": {},
   "source": [
    "#### set - elementy hashowalne"
   ]
  },
  {
   "cell_type": "code",
   "execution_count": null,
   "metadata": {},
   "outputs": [],
   "source": [
    "set_with_list = set()\n",
    "set_with_list.add([1, 2, 3])"
   ]
  },
  {
   "cell_type": "code",
   "execution_count": null,
   "metadata": {},
   "outputs": [],
   "source": [
    "mix_set = { 1, 3, True, \"Some text\", 2.3, (1, 2, 3)}"
   ]
  },
  {
   "cell_type": "markdown",
   "metadata": {},
   "source": [
    "#### zagnieżdżone sekwencje"
   ]
  },
  {
   "cell_type": "code",
   "execution_count": null,
   "metadata": {},
   "outputs": [],
   "source": [
    "# Stwórz zagnieżdżoną listę, która się składa z dwóch list"
   ]
  },
  {
   "cell_type": "markdown",
   "metadata": {},
   "source": [
    "#### Python: instrukcje warunkowe"
   ]
  },
  {
   "cell_type": "code",
   "execution_count": null,
   "metadata": {},
   "outputs": [],
   "source": [
    "# Zwróć odpowiedź (Wykonaj operację/Nie ma wystarczających środków),\n",
    "# w zależności od tego czy kwots transakcji jest większa od salda\n",
    "# Klient chcę wykonać transakcję na kwotę 1010 zł, mając na koncie 1000 zł."
   ]
  }
 ],
 "metadata": {
  "kernelspec": {
   "display_name": "python3.8",
   "language": "python",
   "name": "python3.8"
  },
  "language_info": {
   "codemirror_mode": {
    "name": "ipython",
    "version": 3
   },
   "file_extension": ".py",
   "mimetype": "text/x-python",
   "name": "python",
   "nbconvert_exporter": "python",
   "pygments_lexer": "ipython3",
   "version": "3.8.0"
  }
 },
 "nbformat": 4,
 "nbformat_minor": 4
}
